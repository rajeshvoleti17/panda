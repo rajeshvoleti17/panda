{
 "cells": [
  {
   "cell_type": "code",
   "execution_count": 2,
   "id": "91f52242-d3e4-4692-9430-83353e53f174",
   "metadata": {},
   "outputs": [
    {
     "name": "stdout",
     "output_type": "stream",
     "text": [
      "[1, 34, 56, 57, 87, 98, 57, 9, 90]\n"
     ]
    }
   ],
   "source": [
    "ages=[1,34,56,57,87,98,57,9,90]\n",
    "print(ages)\n"
   ]
  },
  {
   "cell_type": "code",
   "execution_count": 3,
   "id": "57344d80-4384-4f55-8e87-459133504eae",
   "metadata": {},
   "outputs": [],
   "source": [
    "ages.sort()"
   ]
  },
  {
   "cell_type": "code",
   "execution_count": 4,
   "id": "1efa13da-c9d0-4be4-9cfe-1c126e39c2da",
   "metadata": {},
   "outputs": [
    {
     "name": "stdout",
     "output_type": "stream",
     "text": [
      "[1, 9, 34, 56, 57, 57, 87, 90, 98]\n"
     ]
    }
   ],
   "source": [
    "print(ages)"
   ]
  },
  {
   "cell_type": "code",
   "execution_count": 5,
   "id": "4e7e9a22-04a9-48ed-a46f-3a8b928fc532",
   "metadata": {},
   "outputs": [],
   "source": [
    "ages.reverse()"
   ]
  },
  {
   "cell_type": "code",
   "execution_count": 6,
   "id": "bbdbd5a5-277a-4fb2-b88e-1da3ffdf4124",
   "metadata": {},
   "outputs": [
    {
     "name": "stdout",
     "output_type": "stream",
     "text": [
      "[98, 90, 87, 57, 57, 56, 34, 9, 1]\n"
     ]
    }
   ],
   "source": [
    "print(ages)"
   ]
  },
  {
   "cell_type": "code",
   "execution_count": 7,
   "id": "c259c86f-89ac-4215-b36f-776225907b12",
   "metadata": {},
   "outputs": [],
   "source": [
    "ages.insert(0,98)"
   ]
  },
  {
   "cell_type": "code",
   "execution_count": 8,
   "id": "7926b86a-abb2-4b20-8163-a2a5509344df",
   "metadata": {},
   "outputs": [
    {
     "name": "stdout",
     "output_type": "stream",
     "text": [
      "[98, 98, 90, 87, 57, 57, 56, 34, 9, 1]\n"
     ]
    }
   ],
   "source": [
    "print(ages)"
   ]
  },
  {
   "cell_type": "code",
   "execution_count": 9,
   "id": "283dbded-b23b-41ab-a6da-a59cf9a3b391",
   "metadata": {},
   "outputs": [
    {
     "data": {
      "text/plain": [
       "[98, 98, 90]"
      ]
     },
     "execution_count": 9,
     "metadata": {},
     "output_type": "execute_result"
    }
   ],
   "source": [
    "ages[:3]"
   ]
  },
  {
   "cell_type": "code",
   "execution_count": 10,
   "id": "ee371b05-91c3-409f-b29d-caffc11c017e",
   "metadata": {},
   "outputs": [
    {
     "name": "stdout",
     "output_type": "stream",
     "text": [
      "['raj', 1, 5, 6, 7, 'you', 'me']\n"
     ]
    }
   ],
   "source": [
    "raj=['raj',1,5,6,7,'you','me']\n",
    "print(raj)"
   ]
  },
  {
   "cell_type": "code",
   "execution_count": 11,
   "id": "1f0abb2f-04e7-4071-9d86-5993305b7c0a",
   "metadata": {},
   "outputs": [
    {
     "ename": "TypeError",
     "evalue": "'<' not supported between instances of 'int' and 'str'",
     "output_type": "error",
     "traceback": [
      "\u001b[0;31m---------------------------------------------------------------------------\u001b[0m",
      "\u001b[0;31mTypeError\u001b[0m                                 Traceback (most recent call last)",
      "Input \u001b[0;32mIn [11]\u001b[0m, in \u001b[0;36m<cell line: 1>\u001b[0;34m()\u001b[0m\n\u001b[0;32m----> 1\u001b[0m \u001b[43mraj\u001b[49m\u001b[38;5;241;43m.\u001b[39;49m\u001b[43msort\u001b[49m\u001b[43m(\u001b[49m\u001b[43m)\u001b[49m\n",
      "\u001b[0;31mTypeError\u001b[0m: '<' not supported between instances of 'int' and 'str'"
     ]
    }
   ],
   "source": [
    "raj.sort()"
   ]
  },
  {
   "cell_type": "code",
   "execution_count": null,
   "id": "269f6a64-160a-446a-b8cd-2751986927a0",
   "metadata": {},
   "outputs": [],
   "source": []
  }
 ],
 "metadata": {
  "kernelspec": {
   "display_name": "Python 3 (ipykernel)",
   "language": "python",
   "name": "python3"
  },
  "language_info": {
   "codemirror_mode": {
    "name": "ipython",
    "version": 3
   },
   "file_extension": ".py",
   "mimetype": "text/x-python",
   "name": "python",
   "nbconvert_exporter": "python",
   "pygments_lexer": "ipython3",
   "version": "3.9.12"
  }
 },
 "nbformat": 4,
 "nbformat_minor": 5
}
